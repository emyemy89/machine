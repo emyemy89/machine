{
 "cells": [
  {
   "cell_type": "markdown",
   "id": "e12c899a-3867-47b5-946c-052ab9633641",
   "metadata": {},
   "source": [
    "# P value Ttest and Correlation in python"
   ]
  },
  {
   "cell_type": "markdown",
   "id": "58c76ebc-3cb3-41af-9a24-dc280aeb2a65",
   "metadata": {},
   "source": [
    "## T test\n",
    "Is a type of inferential statistic that is used to determine if there is a significant difference between the means of 2 groups that may be related with some features\n",
    "\n",
    "It has 2 types:\n",
    "\n",
    "-one sampled t test\n",
    "\n",
    "-2 sampled t test\n"
   ]
  },
  {
   "cell_type": "markdown",
   "id": "d527a35a-04b8-48d1-89d4-1739a181cb5d",
   "metadata": {},
   "source": [
    "## One sample T test"
   ]
  },
  {
   "cell_type": "code",
   "execution_count": 1,
   "id": "a458df5b-7d98-4bbb-9d8d-ede819e81fd7",
   "metadata": {},
   "outputs": [
    {
     "data": {
      "text/plain": [
       "24"
      ]
     },
     "execution_count": 1,
     "metadata": {},
     "output_type": "execute_result"
    }
   ],
   "source": [
    "ages=[10,20,45,67,56,34,23,31,52,12,23,28,35,44,15,16,29,39,59,48,80,70,50,26]\n",
    "len(ages)"
   ]
  },
  {
   "cell_type": "code",
   "execution_count": 2,
   "id": "2e16e6ca-540e-4ff3-85bb-ad53e1eaf426",
   "metadata": {},
   "outputs": [
    {
     "name": "stdout",
     "output_type": "stream",
     "text": [
      "38.0\n"
     ]
    }
   ],
   "source": [
    "# now we calculate the mean\n",
    "import numpy as np\n",
    "ages_mean=np.mean(ages)\n",
    "print(ages_mean)"
   ]
  },
  {
   "cell_type": "markdown",
   "id": "df2621a0-71ae-47c8-9fde-0c4ffbe806a2",
   "metadata": {},
   "source": [
    "Now we have to consider a sample of this population"
   ]
  },
  {
   "cell_type": "code",
   "execution_count": 5,
   "id": "69ad2357-9d6a-4b78-8740-ac03fdd772a6",
   "metadata": {},
   "outputs": [
    {
     "data": {
      "text/plain": [
       "array([80, 52, 45, 59, 26, 44, 31, 10, 56, 23])"
      ]
     },
     "execution_count": 5,
     "metadata": {},
     "output_type": "execute_result"
    }
   ],
   "source": [
    "# we take a random sample of 10\n",
    "sample_size=10\n",
    "ages_sample=np.random.choice(ages,sample_size)\n",
    "ages_sample"
   ]
  },
  {
   "cell_type": "markdown",
   "id": "93e31809-a491-4ef6-93b9-ad0965f3637d",
   "metadata": {},
   "source": [
    "Now we consider 2 hypothesis: H0 which says we have no difference and H1 which is the alternative\n",
    "\n",
    "We calculate P value and conclude"
   ]
  },
  {
   "cell_type": "code",
   "execution_count": 6,
   "id": "09275b0b-f62a-4198-aed4-f3eda4e8e379",
   "metadata": {},
   "outputs": [],
   "source": [
    "# to perform the 1 sample t test we import the following\n",
    "from scipy.stats import ttest_1samp"
   ]
  },
  {
   "cell_type": "code",
   "execution_count": 9,
   "id": "d9de49b6-8246-4ae1-9aab-0f334d9350a4",
   "metadata": {},
   "outputs": [],
   "source": [
    "#compare the sample to the whole population mean\n",
    "ttest,p_value=ttest_1samp(ages_sample,30)"
   ]
  },
  {
   "cell_type": "code",
   "execution_count": 10,
   "id": "a8963354-a7b5-4203-ad56-c6be3bca8c12",
   "metadata": {},
   "outputs": [
    {
     "name": "stdout",
     "output_type": "stream",
     "text": [
      "0.08444511263412664\n",
      "We accept H0\n"
     ]
    }
   ],
   "source": [
    "print(p_value)\n",
    "if p_value<0.05:\n",
    "    print (\"we reject H0\")\n",
    "else:\n",
    "    print('We accept H0')"
   ]
  },
  {
   "cell_type": "markdown",
   "id": "34e37795-def9-4f67-8ebd-033db30b73e2",
   "metadata": {},
   "source": [
    "## More complex examples\n",
    "Consider the Age of students in college in class A"
   ]
  },
  {
   "cell_type": "code",
   "execution_count": 12,
   "id": "b36c2925-34ac-473f-ba43-7458d3fb5afe",
   "metadata": {},
   "outputs": [],
   "source": [
    "import pandas as pd\n",
    "import scipy.stats as stats\n",
    "import math\n"
   ]
  },
  {
   "cell_type": "code",
   "execution_count": 15,
   "id": "5c128f1e-31cd-408c-8133-0f9e1c352102",
   "metadata": {},
   "outputs": [],
   "source": [
    "np.random.seed(6)\n",
    "# mean is 35, left-most value is 18\n",
    "school_ages=stats.poisson.rvs(loc=18,mu=35,size=1500)\n",
    "classA_ages=stats.poisson.rvs(loc=18,mu=30,size=60)"
   ]
  },
  {
   "cell_type": "code",
   "execution_count": 16,
   "id": "e4de0dd6-7156-405c-a850-d03be3275ee0",
   "metadata": {},
   "outputs": [
    {
     "data": {
      "text/plain": [
       "46.9"
      ]
     },
     "execution_count": 16,
     "metadata": {},
     "output_type": "execute_result"
    }
   ],
   "source": [
    "# see the mean\n",
    "classA_ages.mean()"
   ]
  },
  {
   "cell_type": "code",
   "execution_count": 21,
   "id": "6f1b218b-8792-4b02-b7a5-3d147f8eeeb3",
   "metadata": {},
   "outputs": [],
   "source": [
    "_,p_value=stats.ttest_1samp(a=classA_ages,popmean=school_ages.mean())"
   ]
  },
  {
   "cell_type": "code",
   "execution_count": 22,
   "id": "64edee2a-db38-4f5a-9d61-0c6e561b1ae1",
   "metadata": {},
   "outputs": [
    {
     "data": {
      "text/plain": [
       "53.303333333333335"
      ]
     },
     "execution_count": 22,
     "metadata": {},
     "output_type": "execute_result"
    }
   ],
   "source": [
    "school_ages.mean()"
   ]
  },
  {
   "cell_type": "code",
   "execution_count": 23,
   "id": "ef2142de-7a85-401f-9f03-09add2e53c23",
   "metadata": {},
   "outputs": [
    {
     "data": {
      "text/plain": [
       "1.139027071016194e-13"
      ]
     },
     "execution_count": 23,
     "metadata": {},
     "output_type": "execute_result"
    }
   ],
   "source": [
    "p_value"
   ]
  },
  {
   "cell_type": "code",
   "execution_count": 24,
   "id": "4c673ec8-1e0b-478f-84f1-df410664e57f",
   "metadata": {},
   "outputs": [
    {
     "name": "stdout",
     "output_type": "stream",
     "text": [
      "we reject H0\n"
     ]
    }
   ],
   "source": [
    "# this is wayw less than 0.05 so we reject null hyphotesis\n",
    "if p_value<0.05:\n",
    "    print (\"we reject H0\")\n",
    "else:\n",
    "    print('We accept H0')"
   ]
  },
  {
   "cell_type": "markdown",
   "id": "fbb72597-5166-4ae9-ab52-ad6d8bedcd0c",
   "metadata": {},
   "source": [
    "# 2 Sampled T test\n",
    "This compares the means of 2 independent groups to see if their means are very different\n",
    "\n"
   ]
  },
  {
   "cell_type": "code",
   "execution_count": 25,
   "id": "4c3c3d74-5492-4917-8ad0-9ed55311cd4c",
   "metadata": {},
   "outputs": [
    {
     "data": {
      "text/plain": [
       "50.63333333333333"
      ]
     },
     "execution_count": 25,
     "metadata": {},
     "output_type": "execute_result"
    }
   ],
   "source": [
    "# we initialize another class B\n",
    "np.random.seed(12)\n",
    "ClassB_ages=stats.poisson.rvs(loc=18,mu=33,size=60)\n",
    "ClassB_ages.mean()"
   ]
  },
  {
   "cell_type": "code",
   "execution_count": 28,
   "id": "0d62cff5-82b8-476e-b052-fcd3c3c17164",
   "metadata": {},
   "outputs": [],
   "source": [
    "# this is applied to the whole population\n",
    "_,p_value=stats.ttest_ind(a=classA_ages,b=ClassB_ages,equal_var=False)\n",
    "     "
   ]
  },
  {
   "cell_type": "code",
   "execution_count": 30,
   "id": "00cc08ed-5ef4-4ce2-b63c-be05ecf514a1",
   "metadata": {},
   "outputs": [
    {
     "name": "stdout",
     "output_type": "stream",
     "text": [
      "0.00039942095100859375\n",
      "we reject H0\n"
     ]
    }
   ],
   "source": [
    "print(p_value)\n",
    "# this is wayw less than 0.05 so we reject null hyphotesis\n",
    "if p_value<0.05:\n",
    "    print (\"we reject H0\")\n",
    "else:\n",
    "    print('We accept H0')"
   ]
  },
  {
   "cell_type": "markdown",
   "id": "811e043e-912d-4beb-b1ae-219d89dbaa7b",
   "metadata": {},
   "source": [
    "# P paired T test\n",
    "When we want to check how different samples from the same group are\n",
    "\n",
    "Let s say we have the weight of some students, and same but years after"
   ]
  },
  {
   "cell_type": "code",
   "execution_count": 33,
   "id": "72d81c24-bbd1-425e-8763-7d2070468bc4",
   "metadata": {},
   "outputs": [],
   "source": [
    "weight1=[45,47,49,50,56,57,58,59,62,73,75,79,80,89,88,64,65,77]\n",
    "#we add a normal distribuition to the same weights\n",
    "weight2=weight1+stats.norm.rvs(scale=5,loc=1.25,size=18)"
   ]
  },
  {
   "cell_type": "code",
   "execution_count": 34,
   "id": "d4e30a43-0c6d-47fd-b0c1-43c5469b940c",
   "metadata": {},
   "outputs": [
    {
     "name": "stdout",
     "output_type": "stream",
     "text": [
      "[45, 47, 49, 50, 56, 57, 58, 59, 62, 73, 75, 79, 80, 89, 88, 64, 65, 77]\n",
      "[46.48201318 51.58038798 57.28974242 51.50574593 52.5701257  49.05445346\n",
      " 59.56889364 56.68015951 60.44057668 68.58765575 77.62145502 83.92956055\n",
      " 83.42159375 84.64979448 93.69547305 66.82253473 53.80997768 81.22954305]\n"
     ]
    }
   ],
   "source": [
    "print(weight1)\n",
    "print(weight2)"
   ]
  },
  {
   "cell_type": "code",
   "execution_count": 36,
   "id": "b0ee175d-ad0b-4c7a-8509-fcea8b944794",
   "metadata": {},
   "outputs": [
    {
     "data": {
      "text/html": [
       "<div>\n",
       "<style scoped>\n",
       "    .dataframe tbody tr th:only-of-type {\n",
       "        vertical-align: middle;\n",
       "    }\n",
       "\n",
       "    .dataframe tbody tr th {\n",
       "        vertical-align: top;\n",
       "    }\n",
       "\n",
       "    .dataframe thead th {\n",
       "        text-align: right;\n",
       "    }\n",
       "</style>\n",
       "<table border=\"1\" class=\"dataframe\">\n",
       "  <thead>\n",
       "    <tr style=\"text-align: right;\">\n",
       "      <th></th>\n",
       "      <th>weight_10</th>\n",
       "      <th>weight_20</th>\n",
       "      <th>weight_change</th>\n",
       "    </tr>\n",
       "  </thead>\n",
       "  <tbody>\n",
       "    <tr>\n",
       "      <th>0</th>\n",
       "      <td>45</td>\n",
       "      <td>46.482013</td>\n",
       "      <td>1.482013</td>\n",
       "    </tr>\n",
       "    <tr>\n",
       "      <th>1</th>\n",
       "      <td>47</td>\n",
       "      <td>51.580388</td>\n",
       "      <td>4.580388</td>\n",
       "    </tr>\n",
       "    <tr>\n",
       "      <th>2</th>\n",
       "      <td>49</td>\n",
       "      <td>57.289742</td>\n",
       "      <td>8.289742</td>\n",
       "    </tr>\n",
       "    <tr>\n",
       "      <th>3</th>\n",
       "      <td>50</td>\n",
       "      <td>51.505746</td>\n",
       "      <td>1.505746</td>\n",
       "    </tr>\n",
       "    <tr>\n",
       "      <th>4</th>\n",
       "      <td>56</td>\n",
       "      <td>52.570126</td>\n",
       "      <td>-3.429874</td>\n",
       "    </tr>\n",
       "    <tr>\n",
       "      <th>5</th>\n",
       "      <td>57</td>\n",
       "      <td>49.054453</td>\n",
       "      <td>-7.945547</td>\n",
       "    </tr>\n",
       "    <tr>\n",
       "      <th>6</th>\n",
       "      <td>58</td>\n",
       "      <td>59.568894</td>\n",
       "      <td>1.568894</td>\n",
       "    </tr>\n",
       "    <tr>\n",
       "      <th>7</th>\n",
       "      <td>59</td>\n",
       "      <td>56.680160</td>\n",
       "      <td>-2.319840</td>\n",
       "    </tr>\n",
       "    <tr>\n",
       "      <th>8</th>\n",
       "      <td>62</td>\n",
       "      <td>60.440577</td>\n",
       "      <td>-1.559423</td>\n",
       "    </tr>\n",
       "    <tr>\n",
       "      <th>9</th>\n",
       "      <td>73</td>\n",
       "      <td>68.587656</td>\n",
       "      <td>-4.412344</td>\n",
       "    </tr>\n",
       "    <tr>\n",
       "      <th>10</th>\n",
       "      <td>75</td>\n",
       "      <td>77.621455</td>\n",
       "      <td>2.621455</td>\n",
       "    </tr>\n",
       "    <tr>\n",
       "      <th>11</th>\n",
       "      <td>79</td>\n",
       "      <td>83.929561</td>\n",
       "      <td>4.929561</td>\n",
       "    </tr>\n",
       "    <tr>\n",
       "      <th>12</th>\n",
       "      <td>80</td>\n",
       "      <td>83.421594</td>\n",
       "      <td>3.421594</td>\n",
       "    </tr>\n",
       "    <tr>\n",
       "      <th>13</th>\n",
       "      <td>89</td>\n",
       "      <td>84.649794</td>\n",
       "      <td>-4.350206</td>\n",
       "    </tr>\n",
       "    <tr>\n",
       "      <th>14</th>\n",
       "      <td>88</td>\n",
       "      <td>93.695473</td>\n",
       "      <td>5.695473</td>\n",
       "    </tr>\n",
       "    <tr>\n",
       "      <th>15</th>\n",
       "      <td>64</td>\n",
       "      <td>66.822535</td>\n",
       "      <td>2.822535</td>\n",
       "    </tr>\n",
       "    <tr>\n",
       "      <th>16</th>\n",
       "      <td>65</td>\n",
       "      <td>53.809978</td>\n",
       "      <td>-11.190022</td>\n",
       "    </tr>\n",
       "    <tr>\n",
       "      <th>17</th>\n",
       "      <td>77</td>\n",
       "      <td>81.229543</td>\n",
       "      <td>4.229543</td>\n",
       "    </tr>\n",
       "  </tbody>\n",
       "</table>\n",
       "</div>"
      ],
      "text/plain": [
       "    weight_10  weight_20  weight_change\n",
       "0          45  46.482013       1.482013\n",
       "1          47  51.580388       4.580388\n",
       "2          49  57.289742       8.289742\n",
       "3          50  51.505746       1.505746\n",
       "4          56  52.570126      -3.429874\n",
       "5          57  49.054453      -7.945547\n",
       "6          58  59.568894       1.568894\n",
       "7          59  56.680160      -2.319840\n",
       "8          62  60.440577      -1.559423\n",
       "9          73  68.587656      -4.412344\n",
       "10         75  77.621455       2.621455\n",
       "11         79  83.929561       4.929561\n",
       "12         80  83.421594       3.421594\n",
       "13         89  84.649794      -4.350206\n",
       "14         88  93.695473       5.695473\n",
       "15         64  66.822535       2.822535\n",
       "16         65  53.809978     -11.190022\n",
       "17         77  81.229543       4.229543"
      ]
     },
     "execution_count": 36,
     "metadata": {},
     "output_type": "execute_result"
    }
   ],
   "source": [
    "# now we take the 2 hypothesis\n",
    "# H0- there is no statistical difference\n",
    "# H1- there is a statistical difference\n",
    "weight_df=pd.DataFrame({\"weight_10\":np.array(weight1),\n",
    "                         \"weight_20\":np.array(weight2),\n",
    "                       \"weight_change\":np.array(weight2)-np.array(weight1)})\n",
    "weight_df"
   ]
  },
  {
   "cell_type": "code",
   "execution_count": 37,
   "id": "7bbbf355-7acd-444e-9aeb-e5ae5d8ee898",
   "metadata": {},
   "outputs": [],
   "source": [
    "_,p_value=stats.ttest_rel(a=weight1,b=weight2)"
   ]
  },
  {
   "cell_type": "code",
   "execution_count": 39,
   "id": "5660fd57-ae2e-4264-a439-12428f334c83",
   "metadata": {},
   "outputs": [
    {
     "name": "stdout",
     "output_type": "stream",
     "text": [
      "0.7869983688783727\n",
      "We accept H0\n"
     ]
    }
   ],
   "source": [
    "print(p_value)\n",
    "if p_value<0.05:\n",
    "    print (\"we reject H0\")\n",
    "else:\n",
    "    print('We accept H0')"
   ]
  },
  {
   "cell_type": "code",
   "execution_count": null,
   "id": "79dd9f7d-a49c-413e-9263-bd345750337f",
   "metadata": {},
   "outputs": [],
   "source": []
  },
  {
   "cell_type": "code",
   "execution_count": null,
   "id": "af5b4466-9d60-4f7c-babd-692167982092",
   "metadata": {},
   "outputs": [],
   "source": []
  },
  {
   "cell_type": "code",
   "execution_count": null,
   "id": "26d6c9a9-ec83-49d8-bb11-71f0b792896c",
   "metadata": {},
   "outputs": [],
   "source": []
  }
 ],
 "metadata": {
  "kernelspec": {
   "display_name": "Python 3 (ipykernel)",
   "language": "python",
   "name": "python3"
  },
  "language_info": {
   "codemirror_mode": {
    "name": "ipython",
    "version": 3
   },
   "file_extension": ".py",
   "mimetype": "text/x-python",
   "name": "python",
   "nbconvert_exporter": "python",
   "pygments_lexer": "ipython3",
   "version": "3.11.7"
  }
 },
 "nbformat": 4,
 "nbformat_minor": 5
}
