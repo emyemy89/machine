{
 "cells": [
  {
   "cell_type": "markdown",
   "id": "bec8111b-b95b-4b30-a522-dd6f807287ed",
   "metadata": {},
   "source": [
    "# Chi square test\n",
    "Used when we have 2 categorical features from the same population.\n",
    "Used to determine if there is a huge association between the 2"
   ]
  },
  {
   "cell_type": "code",
   "execution_count": 1,
   "id": "ded6bead-d4de-4501-81de-3062c0a2bd26",
   "metadata": {},
   "outputs": [],
   "source": [
    "import scipy.stats as stats\n",
    "import numpy as np\n",
    "import pandas as pd\n",
    "import seaborn as sns"
   ]
  },
  {
   "cell_type": "code",
   "execution_count": 2,
   "id": "01e76212-5f24-486d-8002-d6383420225a",
   "metadata": {},
   "outputs": [],
   "source": [
    "# import a dataset\n",
    "dataset=sns.load_dataset('tips')"
   ]
  },
  {
   "cell_type": "code",
   "execution_count": 3,
   "id": "e546a712-5760-4655-b1ad-040ccb30c2a1",
   "metadata": {},
   "outputs": [
    {
     "data": {
      "text/html": [
       "<div>\n",
       "<style scoped>\n",
       "    .dataframe tbody tr th:only-of-type {\n",
       "        vertical-align: middle;\n",
       "    }\n",
       "\n",
       "    .dataframe tbody tr th {\n",
       "        vertical-align: top;\n",
       "    }\n",
       "\n",
       "    .dataframe thead th {\n",
       "        text-align: right;\n",
       "    }\n",
       "</style>\n",
       "<table border=\"1\" class=\"dataframe\">\n",
       "  <thead>\n",
       "    <tr style=\"text-align: right;\">\n",
       "      <th></th>\n",
       "      <th>total_bill</th>\n",
       "      <th>tip</th>\n",
       "      <th>sex</th>\n",
       "      <th>smoker</th>\n",
       "      <th>day</th>\n",
       "      <th>time</th>\n",
       "      <th>size</th>\n",
       "    </tr>\n",
       "  </thead>\n",
       "  <tbody>\n",
       "    <tr>\n",
       "      <th>0</th>\n",
       "      <td>16.99</td>\n",
       "      <td>1.01</td>\n",
       "      <td>Female</td>\n",
       "      <td>No</td>\n",
       "      <td>Sun</td>\n",
       "      <td>Dinner</td>\n",
       "      <td>2</td>\n",
       "    </tr>\n",
       "    <tr>\n",
       "      <th>1</th>\n",
       "      <td>10.34</td>\n",
       "      <td>1.66</td>\n",
       "      <td>Male</td>\n",
       "      <td>No</td>\n",
       "      <td>Sun</td>\n",
       "      <td>Dinner</td>\n",
       "      <td>3</td>\n",
       "    </tr>\n",
       "    <tr>\n",
       "      <th>2</th>\n",
       "      <td>21.01</td>\n",
       "      <td>3.50</td>\n",
       "      <td>Male</td>\n",
       "      <td>No</td>\n",
       "      <td>Sun</td>\n",
       "      <td>Dinner</td>\n",
       "      <td>3</td>\n",
       "    </tr>\n",
       "    <tr>\n",
       "      <th>3</th>\n",
       "      <td>23.68</td>\n",
       "      <td>3.31</td>\n",
       "      <td>Male</td>\n",
       "      <td>No</td>\n",
       "      <td>Sun</td>\n",
       "      <td>Dinner</td>\n",
       "      <td>2</td>\n",
       "    </tr>\n",
       "    <tr>\n",
       "      <th>4</th>\n",
       "      <td>24.59</td>\n",
       "      <td>3.61</td>\n",
       "      <td>Female</td>\n",
       "      <td>No</td>\n",
       "      <td>Sun</td>\n",
       "      <td>Dinner</td>\n",
       "      <td>4</td>\n",
       "    </tr>\n",
       "  </tbody>\n",
       "</table>\n",
       "</div>"
      ],
      "text/plain": [
       "   total_bill   tip     sex smoker  day    time  size\n",
       "0       16.99  1.01  Female     No  Sun  Dinner     2\n",
       "1       10.34  1.66    Male     No  Sun  Dinner     3\n",
       "2       21.01  3.50    Male     No  Sun  Dinner     3\n",
       "3       23.68  3.31    Male     No  Sun  Dinner     2\n",
       "4       24.59  3.61  Female     No  Sun  Dinner     4"
      ]
     },
     "execution_count": 3,
     "metadata": {},
     "output_type": "execute_result"
    }
   ],
   "source": [
    "dataset.head()"
   ]
  },
  {
   "cell_type": "markdown",
   "id": "99868748-4943-4e8f-a474-1f674437f75d",
   "metadata": {},
   "source": [
    "We want to see if there is any association between \"sex\" and \"smoker\""
   ]
  },
  {
   "cell_type": "code",
   "execution_count": 6,
   "id": "3a072986-268b-4ddd-a40e-2c3ad9eaa4d8",
   "metadata": {},
   "outputs": [
    {
     "data": {
      "text/html": [
       "<div>\n",
       "<style scoped>\n",
       "    .dataframe tbody tr th:only-of-type {\n",
       "        vertical-align: middle;\n",
       "    }\n",
       "\n",
       "    .dataframe tbody tr th {\n",
       "        vertical-align: top;\n",
       "    }\n",
       "\n",
       "    .dataframe thead th {\n",
       "        text-align: right;\n",
       "    }\n",
       "</style>\n",
       "<table border=\"1\" class=\"dataframe\">\n",
       "  <thead>\n",
       "    <tr style=\"text-align: right;\">\n",
       "      <th>smoker</th>\n",
       "      <th>Yes</th>\n",
       "      <th>No</th>\n",
       "    </tr>\n",
       "    <tr>\n",
       "      <th>sex</th>\n",
       "      <th></th>\n",
       "      <th></th>\n",
       "    </tr>\n",
       "  </thead>\n",
       "  <tbody>\n",
       "    <tr>\n",
       "      <th>Male</th>\n",
       "      <td>60</td>\n",
       "      <td>97</td>\n",
       "    </tr>\n",
       "    <tr>\n",
       "      <th>Female</th>\n",
       "      <td>33</td>\n",
       "      <td>54</td>\n",
       "    </tr>\n",
       "  </tbody>\n",
       "</table>\n",
       "</div>"
      ],
      "text/plain": [
       "smoker  Yes  No\n",
       "sex            \n",
       "Male     60  97\n",
       "Female   33  54"
      ]
     },
     "execution_count": 6,
     "metadata": {},
     "output_type": "execute_result"
    }
   ],
   "source": [
    "# we pick these features\n",
    "# crosstab will create a 2D array\n",
    "dataset_table=pd.crosstab(dataset['sex'],dataset['smoker'])\n",
    "dataset_table"
   ]
  },
  {
   "cell_type": "code",
   "execution_count": 27,
   "id": "c68c86a7-48d5-48d1-aea2-fbd621c4eac7",
   "metadata": {},
   "outputs": [],
   "source": [
    "# observed values\n",
    "observed_vals=dataset_table.values"
   ]
  },
  {
   "cell_type": "code",
   "execution_count": 28,
   "id": "5a422a09-e635-4872-92a8-3b4675a49140",
   "metadata": {},
   "outputs": [
    {
     "name": "stdout",
     "output_type": "stream",
     "text": [
      "Observed values: \n",
      " [[60 97]\n",
      " [33 54]]\n"
     ]
    }
   ],
   "source": [
    "print(\"Observed values: \\n\", observed_vals)"
   ]
  },
  {
   "cell_type": "markdown",
   "id": "676cec72-25df-4194-83d9-b961159a92a5",
   "metadata": {},
   "source": [
    "Now we apply chi square"
   ]
  },
  {
   "cell_type": "code",
   "execution_count": 29,
   "id": "03e0d088-70c0-4689-8ca3-825d1225e08d",
   "metadata": {},
   "outputs": [
    {
     "data": {
      "text/plain": [
       "Chi2ContingencyResult(statistic=0.0, pvalue=1.0, dof=1, expected_freq=array([[59.84016393, 97.15983607],\n",
       "       [33.15983607, 53.84016393]]))"
      ]
     },
     "execution_count": 29,
     "metadata": {},
     "output_type": "execute_result"
    }
   ],
   "source": [
    "vals=stats.chi2_contingency(dataset_table)\n",
    "vals"
   ]
  },
  {
   "cell_type": "markdown",
   "id": "0a4a8e9b-2d14-4cff-b006-f7764e2a84ec",
   "metadata": {},
   "source": [
    "We notice there is a small difference between the observed values and the ones in the chi test"
   ]
  },
  {
   "cell_type": "code",
   "execution_count": 30,
   "id": "92c27d43-c93b-4643-adf6-0c6bb2d2295c",
   "metadata": {},
   "outputs": [],
   "source": [
    "expected_vals=vals[3]"
   ]
  },
  {
   "cell_type": "code",
   "execution_count": 31,
   "id": "2961d790-417a-4bb0-bf79-f73d9d6d7abc",
   "metadata": {},
   "outputs": [],
   "source": [
    "nb_rows=len(dataset_table.iloc[0:2,0])\n",
    "nb_cols=len(dataset_table.iloc[0,0:2])"
   ]
  },
  {
   "cell_type": "code",
   "execution_count": 32,
   "id": "aede94e1-4cf0-4f4f-87a1-5e17d2d02189",
   "metadata": {},
   "outputs": [
    {
     "name": "stdout",
     "output_type": "stream",
     "text": [
      "Degree of fredom is:  1\n"
     ]
    }
   ],
   "source": [
    "ddof=(nb_rows-1)*(nb_cols-1)\n",
    "print(\"Degree of fredom is: \", ddof)\n",
    "alpha=0.05"
   ]
  },
  {
   "cell_type": "markdown",
   "id": "319a3e99-3f44-4b4a-96a4-f9d65b7c2c4f",
   "metadata": {},
   "source": [
    "## The chi square formula is:\n",
    "\\begin{equation}\n",
    "x^2 = \\sum \\frac{(o - e)^2}{e}\n",
    "\\end{equation}"
   ]
  },
  {
   "cell_type": "code",
   "execution_count": 35,
   "id": "5dab4882-82cd-49c1-8d14-51eda0f87577",
   "metadata": {},
   "outputs": [
    {
     "name": "stdout",
     "output_type": "stream",
     "text": [
      "chi-square statistic:- 0.001934818536627623\n"
     ]
    }
   ],
   "source": [
    "from scipy.stats import chi2\n",
    "chi_square=sum([(o-e)**2./e for o,e in zip(observed_vals,expected_vals)])\n",
    "chi_square_statistic=chi_square[0]+chi_square[1]\n",
    "print(\"chi-square statistic:-\",chi_square_statistic)"
   ]
  },
  {
   "cell_type": "code",
   "execution_count": 38,
   "id": "80e56cd8-5b0a-4493-8efa-1467828ccfdc",
   "metadata": {},
   "outputs": [
    {
     "data": {
      "text/plain": [
       "3.841458820694124"
      ]
     },
     "execution_count": 38,
     "metadata": {},
     "output_type": "execute_result"
    }
   ],
   "source": [
    "# now we are going to calculate percent point function (ppf)\n",
    "critical_val=chi2.ppf(q=1-alpha,df=ddof)\n",
    "critical_val"
   ]
  },
  {
   "cell_type": "code",
   "execution_count": 51,
   "id": "ad3a33c3-45d4-472f-b5ea-265c1309c067",
   "metadata": {},
   "outputs": [],
   "source": [
    "# another way is to simply calculate p_value\n",
    "# cdf is the opposite of ppf\n",
    "p_value=1-chi2.cdf(x=chi_square_statistic,df=ddof)"
   ]
  },
  {
   "cell_type": "code",
   "execution_count": 52,
   "id": "752cb8ad-acf5-48c3-9fa4-fb86c66be4e1",
   "metadata": {},
   "outputs": [
    {
     "name": "stdout",
     "output_type": "stream",
     "text": [
      " p_value: 0.964915107315732 \n",
      " Significance level: 0.05 \n",
      " Degree of freedom 1\n"
     ]
    }
   ],
   "source": [
    "print(\" p_value: {} \\n Significance level: {} \\n Degree of freedom {}\".format(p_value, alpha, ddof))"
   ]
  },
  {
   "cell_type": "code",
   "execution_count": 53,
   "id": "354169ec-a9e1-46d9-bcbc-ab86aa7aff81",
   "metadata": {},
   "outputs": [
    {
     "name": "stdout",
     "output_type": "stream",
     "text": [
      "H0 true,There is no relationship between 2 categorical variables\n",
      "H0 true,There is no relationship between 2 categorical variables\n"
     ]
    }
   ],
   "source": [
    "if chi_square_statistic>=critical_val:\n",
    "    print(\"Reject H0,There is a relationship between 2 categorical variables\")\n",
    "else:\n",
    "    print(\"H0 true,There is no relationship between 2 categorical variables\")\n",
    "    \n",
    "if p_value<=alpha:\n",
    "    print(\"Reject H0,There is a relationship between 2 categorical variables\")\n",
    "else:\n",
    "    print(\"H0 true,There is no relationship between 2 categorical variables\")"
   ]
  },
  {
   "cell_type": "markdown",
   "id": "a61c083c-958f-442c-8b33-d2dc6cc0ef9e",
   "metadata": {},
   "source": [
    "This way chi square test helps us do the feature selection by seeing if features are associated"
   ]
  },
  {
   "cell_type": "code",
   "execution_count": null,
   "id": "80103829-c4bd-4354-9fbf-e9ca00e0b24c",
   "metadata": {},
   "outputs": [],
   "source": []
  }
 ],
 "metadata": {
  "kernelspec": {
   "display_name": "Python 3 (ipykernel)",
   "language": "python",
   "name": "python3"
  },
  "language_info": {
   "codemirror_mode": {
    "name": "ipython",
    "version": 3
   },
   "file_extension": ".py",
   "mimetype": "text/x-python",
   "name": "python",
   "nbconvert_exporter": "python",
   "pygments_lexer": "ipython3",
   "version": "3.11.7"
  }
 },
 "nbformat": 4,
 "nbformat_minor": 5
}
